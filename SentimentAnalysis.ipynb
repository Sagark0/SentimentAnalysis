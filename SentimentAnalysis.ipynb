{
 "cells": [
  {
   "cell_type": "code",
   "execution_count": 1,
   "metadata": {},
   "outputs": [],
   "source": [
    "import requests\n",
    "from bs4 import BeautifulSoup"
   ]
  },
  {
   "cell_type": "code",
   "execution_count": 2,
   "metadata": {},
   "outputs": [],
   "source": [
    "HEADERS = ({'User-Agent':\n",
    "            'Mozilla/5.0 (Windows NT 10.0; Win64; x64) \\\n",
    "            AppleWebKit/537.36 (KHTML, like Gecko) \\\n",
    "            Chrome/90.0.4430.212 Safari/537.36',\n",
    "            'Accept-Language': 'en-US, en;q=0.5'})\n",
    "URL= \"https://www.amazon.in/MuscleBlaze-Omega-Fish-Oil-1000/dp/B07CNV8XM7/?_encoding=UTF8&pd_rd_w=2VRil&pf_rd_p=e932aeaf-89ea-47b8-9c31-e92696d33d85&pf_rd_r=RE5V6ZH95XRXXP0HNCEM&pd_rd_r=6dfb932c-0686-41e4-a006-d75d24b608e0&pd_rd_wg=Q85jG&ref_=pd_gw_ci_mcx_mr_hp_d&th=1\"\n",
    "  "
   ]
  },
  {
   "cell_type": "code",
   "execution_count": 3,
   "metadata": {},
   "outputs": [],
   "source": [
    "page=requests.get(URL,headers=HEADERS)"
   ]
  },
  {
   "cell_type": "code",
   "execution_count": 4,
   "metadata": {},
   "outputs": [
    {
     "name": "stdout",
     "output_type": "stream",
     "text": [
      "        MuscleBlaze Omega 3 Fish Oil 1000 mg, India's Only Labdoor USA Certified for Purity & Accuracy with 180 mg EPA and 120 mg DHA, 90 Capsules       \n"
     ]
    }
   ],
   "source": [
    "soup=BeautifulSoup(page.content,'html.parser')\n",
    "title=soup.find(id=\"productTitle\").getText()\n",
    "print(title)"
   ]
  },
  {
   "cell_type": "code",
   "execution_count": 5,
   "metadata": {},
   "outputs": [],
   "source": [
    "reviews=[]\n",
    "for review in soup.find_all(\"div\", class_=\"a-expander-content reviewText review-text-content a-expander-partial-collapse-content\"):\n",
    "    reviews.append(review.getText())"
   ]
  },
  {
   "cell_type": "code",
   "execution_count": 6,
   "metadata": {},
   "outputs": [
    {
     "data": {
      "text/plain": [
       "[\"\\n\\n  I like this product. Infact love this. i had knee problem one year back. So, i always afraid of doing exercise related to knee. Even i could not walk properly due to this problem. Finally i got this product. I am using this product and result is i walk normally. It feels that i am fine now. I am so happy. I know now i'll fully recover as results show.Thanks Amazon and thanks MuscleBlaze.\\n\\n\",\n",
       " '\\n\\n  It is a very good product if someone cares a little about health . We dont get all this enough from our food sources . Omega 3 and other oils in it is needed for stronger heart and brain . I feel better after using this as smoke a lot . You need to drink plenty of water and fibre rich food after taking these as it nay get your stomach upset and sometimes problem in bowel movement.Thanks\\n\\n',\n",
       " '\\n\\n  Packaging is good and authentic product but it has ( EPA & DHA ) contain is less than daily recommendation in one soft capsule so to full fill recommendations we need to consume 2 or 3 capsule a day\\n\\n',\n",
       " '\\n\\n  This is the 2nd time I have ordered these capsules.The product is genuine as guaranteed by Muscleblaze.And as all of us know the benefits of omega3 fatty acids in our daily life and for our heart and brain.Going to buy another pack soon.Buy the capsules only of good brands.\\n\\n',\n",
       " '\\n\\n  Fish oils are one of the most commonly used dietary supplements. Fish oil use may reduce vascular risk factors associated with cognitive decline, thus providing benefits to both heart and brain health. They are easy to take and healthy for heart , brain and joint function. MUSCLE BLAZE  supplements are good . Easy to swallow, the flavour is also good and it comes in affordable price also so everyone can buy it.\\n\\n',\n",
       " \"\\n\\n  I received the product but it's unable for human use, some of capsules damaged and Inside the box the capsules are rotting on top of each other, and the content is completely unfit for human consumption. I want help to reach the seller to replace the product. Or I need someone's help to file a complaint in this regard.Unpleasant smell from inside the package, the absorbent of moisture as shown in the pictures saturated with rotten oil\\n\\n\",\n",
       " \"\\n\\n  I hve been using this for the past 8 months now, it's my 3rd bottle. It's really easy to swallow.  Helps in the proper Joint function, supports heart and brain as well as skin and hair upto some extend.\\n\\n\",\n",
       " '\\n\\n  Good supplement\\n\\n']"
      ]
     },
     "execution_count": 6,
     "metadata": {},
     "output_type": "execute_result"
    }
   ],
   "source": [
    "reviews"
   ]
  },
  {
   "cell_type": "code",
   "execution_count": 7,
   "metadata": {},
   "outputs": [
    {
     "name": "stderr",
     "output_type": "stream",
     "text": [
      "C:\\Users\\Light\\AppData\\Local\\Continuum\\anaconda3\\lib\\site-packages\\sklearn\\feature_extraction\\image.py:167: DeprecationWarning: `np.int` is a deprecated alias for the builtin `int`. To silence this warning, use `int` by itself. Doing this will not modify any behavior and is safe. When replacing `np.int`, you may wish to use e.g. `np.int64` or `np.int32` to specify the precision. If you wish to review your current use, check the release note link for additional information.\n",
      "Deprecated in NumPy 1.20; for more details and guidance: https://numpy.org/devdocs/release/1.20.0-notes.html#deprecations\n",
      "  dtype=np.int):\n",
      "C:\\Users\\Light\\AppData\\Local\\Continuum\\anaconda3\\lib\\site-packages\\sklearn\\linear_model\\least_angle.py:30: DeprecationWarning: `np.float` is a deprecated alias for the builtin `float`. To silence this warning, use `float` by itself. Doing this will not modify any behavior and is safe. If you specifically wanted the numpy scalar type, use `np.float64` here.\n",
      "Deprecated in NumPy 1.20; for more details and guidance: https://numpy.org/devdocs/release/1.20.0-notes.html#deprecations\n",
      "  method='lar', copy_X=True, eps=np.finfo(np.float).eps,\n",
      "C:\\Users\\Light\\AppData\\Local\\Continuum\\anaconda3\\lib\\site-packages\\sklearn\\linear_model\\least_angle.py:167: DeprecationWarning: `np.float` is a deprecated alias for the builtin `float`. To silence this warning, use `float` by itself. Doing this will not modify any behavior and is safe. If you specifically wanted the numpy scalar type, use `np.float64` here.\n",
      "Deprecated in NumPy 1.20; for more details and guidance: https://numpy.org/devdocs/release/1.20.0-notes.html#deprecations\n",
      "  method='lar', copy_X=True, eps=np.finfo(np.float).eps,\n",
      "C:\\Users\\Light\\AppData\\Local\\Continuum\\anaconda3\\lib\\site-packages\\sklearn\\linear_model\\least_angle.py:284: DeprecationWarning: `np.float` is a deprecated alias for the builtin `float`. To silence this warning, use `float` by itself. Doing this will not modify any behavior and is safe. If you specifically wanted the numpy scalar type, use `np.float64` here.\n",
      "Deprecated in NumPy 1.20; for more details and guidance: https://numpy.org/devdocs/release/1.20.0-notes.html#deprecations\n",
      "  eps=np.finfo(np.float).eps, copy_Gram=True, verbose=0,\n",
      "C:\\Users\\Light\\AppData\\Local\\Continuum\\anaconda3\\lib\\site-packages\\sklearn\\linear_model\\least_angle.py:862: DeprecationWarning: `np.float` is a deprecated alias for the builtin `float`. To silence this warning, use `float` by itself. Doing this will not modify any behavior and is safe. If you specifically wanted the numpy scalar type, use `np.float64` here.\n",
      "Deprecated in NumPy 1.20; for more details and guidance: https://numpy.org/devdocs/release/1.20.0-notes.html#deprecations\n",
      "  eps=np.finfo(np.float).eps, copy_X=True, fit_path=True,\n",
      "C:\\Users\\Light\\AppData\\Local\\Continuum\\anaconda3\\lib\\site-packages\\sklearn\\linear_model\\least_angle.py:1101: DeprecationWarning: `np.float` is a deprecated alias for the builtin `float`. To silence this warning, use `float` by itself. Doing this will not modify any behavior and is safe. If you specifically wanted the numpy scalar type, use `np.float64` here.\n",
      "Deprecated in NumPy 1.20; for more details and guidance: https://numpy.org/devdocs/release/1.20.0-notes.html#deprecations\n",
      "  eps=np.finfo(np.float).eps, copy_X=True, fit_path=True,\n",
      "C:\\Users\\Light\\AppData\\Local\\Continuum\\anaconda3\\lib\\site-packages\\sklearn\\linear_model\\least_angle.py:1127: DeprecationWarning: `np.float` is a deprecated alias for the builtin `float`. To silence this warning, use `float` by itself. Doing this will not modify any behavior and is safe. If you specifically wanted the numpy scalar type, use `np.float64` here.\n",
      "Deprecated in NumPy 1.20; for more details and guidance: https://numpy.org/devdocs/release/1.20.0-notes.html#deprecations\n",
      "  eps=np.finfo(np.float).eps, positive=False):\n",
      "C:\\Users\\Light\\AppData\\Local\\Continuum\\anaconda3\\lib\\site-packages\\sklearn\\linear_model\\least_angle.py:1362: DeprecationWarning: `np.float` is a deprecated alias for the builtin `float`. To silence this warning, use `float` by itself. Doing this will not modify any behavior and is safe. If you specifically wanted the numpy scalar type, use `np.float64` here.\n",
      "Deprecated in NumPy 1.20; for more details and guidance: https://numpy.org/devdocs/release/1.20.0-notes.html#deprecations\n",
      "  max_n_alphas=1000, n_jobs=None, eps=np.finfo(np.float).eps,\n",
      "C:\\Users\\Light\\AppData\\Local\\Continuum\\anaconda3\\lib\\site-packages\\sklearn\\linear_model\\least_angle.py:1602: DeprecationWarning: `np.float` is a deprecated alias for the builtin `float`. To silence this warning, use `float` by itself. Doing this will not modify any behavior and is safe. If you specifically wanted the numpy scalar type, use `np.float64` here.\n",
      "Deprecated in NumPy 1.20; for more details and guidance: https://numpy.org/devdocs/release/1.20.0-notes.html#deprecations\n",
      "  max_n_alphas=1000, n_jobs=None, eps=np.finfo(np.float).eps,\n",
      "C:\\Users\\Light\\AppData\\Local\\Continuum\\anaconda3\\lib\\site-packages\\sklearn\\linear_model\\least_angle.py:1738: DeprecationWarning: `np.float` is a deprecated alias for the builtin `float`. To silence this warning, use `float` by itself. Doing this will not modify any behavior and is safe. If you specifically wanted the numpy scalar type, use `np.float64` here.\n",
      "Deprecated in NumPy 1.20; for more details and guidance: https://numpy.org/devdocs/release/1.20.0-notes.html#deprecations\n",
      "  eps=np.finfo(np.float).eps, copy_X=True, positive=False):\n"
     ]
    }
   ],
   "source": [
    "from vaderSentiment.vaderSentiment import SentimentIntensityAnalyzer\n",
    "import nltk"
   ]
  },
  {
   "cell_type": "code",
   "execution_count": 8,
   "metadata": {},
   "outputs": [
    {
     "name": "stdout",
     "output_type": "stream",
     "text": [
      "Review for: \"I like this pr\" Positive\n",
      "Review for: \"It is a very g\" Positive\n",
      "Review for: \"Packaging is g\" Positive\n",
      "Review for: \"This is the 2n\" Positive\n",
      "Review for: \"Fish oils are \" Positive\n",
      "Review for: \"I received the\" Negative\n",
      "Review for: \"I hve been usi\" Positive\n",
      "Review for: \"Good supplemen\" Positive\n"
     ]
    }
   ],
   "source": [
    "analyser= SentimentIntensityAnalyzer()\n",
    "\n",
    "def getSent(num):\n",
    "    if(num<=-0.05):\n",
    "        print(\"Negative\")\n",
    "    elif(num>=0.05):\n",
    "        print(\"Positive\")\n",
    "    else:\n",
    "        print(\"Neutral\")\n",
    "\n",
    "for review in reviews:\n",
    "    score=analyser.polarity_scores(review)\n",
    "    print(\"Review for:\",\"\\\"\"+review.strip()[0:14]+\"\\\"\",end=\" \")\n",
    "    getSent(score['compound'])\n"
   ]
  }
 ],
 "metadata": {
  "interpreter": {
   "hash": "fa6a4ff649a1239a1a317dbca44eb208d05bf43bf5bdc59d2111b985e12e7c4e"
  },
  "kernelspec": {
   "display_name": "Python 3",
   "language": "python",
   "name": "python3"
  },
  "language_info": {
   "codemirror_mode": {
    "name": "ipython",
    "version": 3
   },
   "file_extension": ".py",
   "mimetype": "text/x-python",
   "name": "python",
   "nbconvert_exporter": "python",
   "pygments_lexer": "ipython3",
   "version": "3.7.4"
  }
 },
 "nbformat": 4,
 "nbformat_minor": 2
}
